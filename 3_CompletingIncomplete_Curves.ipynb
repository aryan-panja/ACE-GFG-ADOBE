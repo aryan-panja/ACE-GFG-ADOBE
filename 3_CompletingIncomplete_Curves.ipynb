{
  "nbformat": 4,
  "nbformat_minor": 0,
  "metadata": {
    "colab": {
      "provenance": [],
      "authorship_tag": "ABX9TyP5ZoeDiek0KHEjBMKDBMVh",
      "include_colab_link": true
    },
    "kernelspec": {
      "name": "python3",
      "display_name": "Python 3"
    },
    "language_info": {
      "name": "python"
    }
  },
  "cells": [
    {
      "cell_type": "markdown",
      "metadata": {
        "id": "view-in-github",
        "colab_type": "text"
      },
      "source": [
        "<a href=\"https://colab.research.google.com/github/aryan-panja/ACE-GFG-ADOBE/blob/main/3_CompletingIncomplete_Curves.ipynb\" target=\"_parent\"><img src=\"https://colab.research.google.com/assets/colab-badge.svg\" alt=\"Open In Colab\"/></a>"
      ]
    },
    {
      "cell_type": "code",
      "execution_count": 1,
      "metadata": {
        "id": "l0eRwYLaug9o"
      },
      "outputs": [],
      "source": [
        "import numpy as np\n",
        "import matplotlib.pyplot as plt"
      ]
    },
    {
      "cell_type": "code",
      "source": [
        "def distance(p1, p2):\n",
        "    return np.sqrt((p1[0] - p2[0])**2 + (p1[1] - p2[1])**2)"
      ],
      "metadata": {
        "id": "FUS27aH3uhtK"
      },
      "execution_count": 2,
      "outputs": []
    },
    {
      "cell_type": "code",
      "source": [
        "def read_csv(csv_path):\n",
        "    np_path_XYs = np.genfromtxt(csv_path, delimiter=',')\n",
        "    path_XYs = []\n",
        "    for i in np.unique(np_path_XYs[:, 0]):\n",
        "        npXYs = np_path_XYs[np_path_XYs[:, 0] == i][:, 1:]\n",
        "        XYs = []\n",
        "        for j in np.unique(npXYs[:, 0]):\n",
        "            XY = npXYs[npXYs[:, 0] == j][:, 1:]\n",
        "            XYs.append(XY)\n",
        "        path_XYs.append(XYs)\n",
        "    return path_XYs\n",
        ""
      ],
      "metadata": {
        "id": "RQtjYNGyui6Z"
      },
      "execution_count": 3,
      "outputs": []
    },
    {
      "cell_type": "code",
      "source": [
        "def plot(paths_XYs):\n",
        "\n",
        "    fig, ax = plt.subplots(tight_layout=True, figsize=(8, 8))\n",
        "    for i, XYs in enumerate(paths_XYs):\n",
        "        for XY in XYs:\n",
        "            ax.plot(XY[:, 0], XY[:, 1], linewidth=2)\n",
        "    ax.set_aspect('equal')\n",
        "    plt.show()"
      ],
      "metadata": {
        "id": "yQeeEiP8ukUb"
      },
      "execution_count": 4,
      "outputs": []
    },
    {
      "cell_type": "code",
      "source": [
        "def complete_curve(XYs):\n",
        "    if len(XYs) < 2:\n",
        "        return XYs\n",
        "    new_XYs = XYs.copy()\n",
        "    for i in range(len(XYs) - 1):\n",
        "        if distance(XYs[i], XYs[i+1]) > 10:\n",
        "            new_XYs = np.insert(new_XYs, i+1, (XYs[i] + XYs[i+1]) / 2, axis=0)\n",
        "    return new_XYs\n",
        "\n",
        "def complete_curves(paths_XYs):\n",
        "    for i, XYs in enumerate(paths_XYs):\n",
        "        for j, XY in enumerate(XYs):\n",
        "            XYs[j] = complete_curve(XY)\n",
        "    return paths_XYs"
      ],
      "metadata": {
        "id": "DfgVVOFyulh4"
      },
      "execution_count": 5,
      "outputs": []
    },
    {
      "cell_type": "code",
      "source": [
        "csv_path = \"occlusion1.csv\"\n",
        "paths_XYs = read_csv(csv_path)\n",
        "print(\"plotting the original shape\")\n",
        "plot(paths_XYs)"
      ],
      "metadata": {
        "id": "nu5QXuFrumyE"
      },
      "execution_count": null,
      "outputs": []
    },
    {
      "cell_type": "code",
      "source": [
        "completed_paths = complete_curves(paths_XYs)\n",
        "plot(completed_paths)"
      ],
      "metadata": {
        "id": "273SeLQ1upty"
      },
      "execution_count": null,
      "outputs": []
    }
  ]
}