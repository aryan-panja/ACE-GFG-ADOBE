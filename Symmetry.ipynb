{
 "cells": [
  {
   "cell_type": "code",
   "execution_count": 1,
   "metadata": {},
   "outputs": [
    {
     "name": "stdout",
     "output_type": "stream",
     "text": [
      "Requirement already satisfied: opencv-python in c:\\users\\hp\\appdata\\local\\programs\\python\\python311\\lib\\site-packages (4.8.1.78)\n",
      "Requirement already satisfied: numpy>=1.21.2 in c:\\users\\hp\\appdata\\local\\programs\\python\\python311\\lib\\site-packages (from opencv-python) (1.25.1)\n",
      "Note: you may need to restart the kernel to use updated packages.\n"
     ]
    },
    {
     "name": "stderr",
     "output_type": "stream",
     "text": [
      "\n",
      "[notice] A new release of pip is available: 23.3.2 -> 24.2\n",
      "[notice] To update, run: python.exe -m pip install --upgrade pip\n"
     ]
    }
   ],
   "source": [
    "%pip install opencv-python"
   ]
  },
  {
   "cell_type": "code",
   "execution_count": 2,
   "metadata": {},
   "outputs": [],
   "source": [
    "import cv2\n",
    "import numpy as np"
   ]
  },
  {
   "cell_type": "code",
   "execution_count": 10,
   "metadata": {},
   "outputs": [],
   "source": [
    "def draw_symmetry_lines(img, cx, cy):\n",
    "    height, width = img.shape[:2]\n",
    "\n",
    "    # Draw vertical line\n",
    "    cv2.line(img, (cx, 0), (cx, height), (0, 255, 0), 1)\n",
    "    \n",
    "    # Draw horizontal line\n",
    "    cv2.line(img, (0, cy), (width, cy), (0, 255, 0), 1)\n",
    "    \n",
    "    # Draw diagonal line (45 degrees)\n",
    "    diag1_start = (max(cx - cy, 0), max(cy - cx, 0))\n",
    "    diag1_end = (min(cx + (height - cy), width), min(cy + (width - cx), height))\n",
    "    cv2.line(img, diag1_start, diag1_end, (0, 255, 0), 1)\n",
    "\n",
    "    # Draw diagonal line (135 degrees)\n",
    "    diag2_start = (max(cx - (height - cy), 0), min(cy + cx, height))\n",
    "    diag2_end = (min(cx + cy, width), max(cy - (width - cx), 0))\n",
    "    cv2.line(img, diag2_start, diag2_end, (0, 255, 0), 1)"
   ]
  },
  {
   "cell_type": "code",
   "execution_count": 11,
   "metadata": {},
   "outputs": [],
   "source": [
    "def find_lines_of_symmetry(image_path):\n",
    "    # Read the input image\n",
    "    img = cv2.imread(image_path)\n",
    "    if img is None:\n",
    "        print(f\"Error: Unable to load image {image_path}\")\n",
    "        return\n",
    "\n",
    "    # Convert the image to grayscale\n",
    "    gray = cv2.cvtColor(img, cv2.COLOR_BGR2GRAY)\n",
    "\n",
    "    # Apply edge detection\n",
    "    edges = cv2.Canny(gray, 50, 150)\n",
    "\n",
    "    # Find contours\n",
    "    contours, _ = cv2.findContours(edges, cv2.RETR_TREE, cv2.CHAIN_APPROX_SIMPLE)\n",
    "\n",
    "    # Create an empty image to draw lines of symmetry\n",
    "    symmetry_img = img.copy()\n",
    "\n",
    "    for contour in contours:\n",
    "        # Calculate image moments of the contour\n",
    "        M = cv2.moments(contour)\n",
    "\n",
    "        if M['m00'] != 0:\n",
    "            # Calculate the center of the contour\n",
    "            cx = int(M['m10'] / M['m00'])\n",
    "            cy = int(M['m01'] / M['m00'])\n",
    "\n",
    "            # Draw lines of symmetry\n",
    "            draw_symmetry_lines(symmetry_img, cx, cy)\n",
    "    \n",
    "    # Save or display the result\n",
    "    output_path = 'output_symmetry.png'\n",
    "    cv2.imwrite(output_path, symmetry_img)\n",
    "    cv2.imshow('Symmetry Lines', symmetry_img)\n",
    "    cv2.waitKey(0)\n",
    "    cv2.destroyAllWindows()"
   ]
  },
  {
   "cell_type": "code",
   "execution_count": 14,
   "metadata": {},
   "outputs": [],
   "source": [
    "find_lines_of_symmetry('square.png')"
   ]
  },
  {
   "cell_type": "code",
   "execution_count": null,
   "metadata": {},
   "outputs": [],
   "source": []
  }
 ],
 "metadata": {
  "kernelspec": {
   "display_name": "Python 3",
   "language": "python",
   "name": "python3"
  },
  "language_info": {
   "codemirror_mode": {
    "name": "ipython",
    "version": 3
   },
   "file_extension": ".py",
   "mimetype": "text/x-python",
   "name": "python",
   "nbconvert_exporter": "python",
   "pygments_lexer": "ipython3",
   "version": "3.11.4"
  }
 },
 "nbformat": 4,
 "nbformat_minor": 2
}
