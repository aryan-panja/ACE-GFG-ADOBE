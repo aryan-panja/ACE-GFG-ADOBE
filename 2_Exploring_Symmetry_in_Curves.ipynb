{
  "cells": [
    {
      "cell_type": "markdown",
      "metadata": {
        "id": "view-in-github",
        "colab_type": "text"
      },
      "source": [
        "<a href=\"https://colab.research.google.com/github/aryan-panja/ACE-GFG-ADOBE/blob/main/2_Exploring_Symmetry_in_Curves.ipynb\" target=\"_parent\"><img src=\"https://colab.research.google.com/assets/colab-badge.svg\" alt=\"Open In Colab\"/></a>"
      ]
    },
    {
      "cell_type": "code",
      "execution_count": null,
      "metadata": {
        "id": "YDhaa--rbidI",
        "outputId": "18b2d844-4dc5-4745-ff73-56f83db55c7d",
        "colab": {
          "base_uri": "https://localhost:8080/"
        }
      },
      "outputs": [
        {
          "output_type": "stream",
          "name": "stdout",
          "text": [
            "Requirement already satisfied: opencv-python in /usr/local/lib/python3.10/dist-packages (4.10.0.84)\n",
            "Requirement already satisfied: numpy>=1.21.2 in /usr/local/lib/python3.10/dist-packages (from opencv-python) (1.26.4)\n"
          ]
        }
      ],
      "source": [
        "%pip install opencv-python"
      ]
    },
    {
      "cell_type": "code",
      "execution_count": null,
      "metadata": {
        "id": "66gvJTp7bidJ"
      },
      "outputs": [],
      "source": [
        "import cv2\n",
        "import numpy as np"
      ]
    },
    {
      "cell_type": "code",
      "source": [
        "file_path = 'frag1.csv'"
      ],
      "metadata": {
        "id": "Om1zJB73dOBE"
      },
      "execution_count": null,
      "outputs": []
    },
    {
      "cell_type": "code",
      "execution_count": null,
      "metadata": {
        "id": "gAq98eSubidK"
      },
      "outputs": [],
      "source": [
        "import numpy as np\n",
        "import matplotlib.pyplot as plt\n",
        "\n",
        "def read_csv(csv_path):\n",
        "  np_path_XYs = np.genfromtxt(csv_path, delimiter=',')\n",
        "  path_XYs = []\n",
        "  for i in np.unique(np_path_XYs[:, 0]):\n",
        "    npXYs = np_path_XYs[np_path_XYs[:, 0] == i][:, 1:]\n",
        "    XYs = []\n",
        "    for j in np.unique(npXYs[:, 0]):\n",
        "      XY = npXYs[npXYs[:, 0] == j][:, 1:]\n",
        "      XYs.append(XY)\n",
        "    path_XYs.append(XYs)\n",
        "  return path_XYs\n",
        "\n",
        "def plot(paths_XYs):\n",
        "    colours = ['b', 'g', 'r', 'c', 'm', 'y', 'k']\n",
        "    fig, ax = plt.subplots(tight_layout=True, figsize=(8, 8))\n",
        "    for i, XYs in enumerate(paths_XYs):\n",
        "        c = colours[i % len(colours)]\n",
        "        for XY in XYs:\n",
        "            ax.plot(XY[:, 0], XY[:, 1], c=c, linewidth=2)\n",
        "    ax.set_aspect('equal')\n",
        "    plt.savefig('output.png', format='png')\n",
        "    plt.show()"
      ]
    },
    {
      "cell_type": "code",
      "execution_count": null,
      "metadata": {
        "id": "Scc1Lq1EbidJ"
      },
      "outputs": [],
      "source": [
        "def draw_symmetry_lines(img, cx, cy):\n",
        "    height, width = img.shape[:2]\n",
        "\n",
        "    # Draw vertical line\n",
        "    cv2.line(img, (cx, 0), (cx, height), (0, 255, 0), 1)\n",
        "\n",
        "    # Draw horizontal line\n",
        "    cv2.line(img, (0, cy), (width, cy), (0, 255, 0), 1)\n",
        "\n",
        "    # Draw diagonal line (45 degrees)\n",
        "    diag1_start = (max(cx - cy, 0), max(cy - cx, 0))\n",
        "    diag1_end = (min(cx + (height - cy), width), min(cy + (width - cx), height))\n",
        "    cv2.line(img, diag1_start, diag1_end, (0, 255, 0), 1)\n",
        "\n",
        "    # Draw diagonal line (135 degrees)\n",
        "    diag2_start = (max(cx - (height - cy), 0), min(cy + cx, height))\n",
        "    diag2_end = (min(cx + cy, width), max(cy - (width - cx), 0))\n",
        "    cv2.line(img, diag2_start, diag2_end, (0, 255, 0), 1)"
      ]
    },
    {
      "cell_type": "code",
      "execution_count": null,
      "metadata": {
        "id": "f3xVyaKJbidJ"
      },
      "outputs": [],
      "source": [
        "from google.colab.patches import cv2_imshow\n",
        "\n",
        "\n",
        "def find_lines_of_symmetry(image_path):\n",
        "    # Read the input image\n",
        "    img = cv2.imread(image_path)\n",
        "    if img is None:\n",
        "        print(f\"Error: Unable to load image {image_path}\")\n",
        "        return\n",
        "\n",
        "    # Convert the image to grayscale\n",
        "    gray = cv2.cvtColor(img, cv2.COLOR_BGR2GRAY)\n",
        "\n",
        "    # Apply edge detection\n",
        "    edges = cv2.Canny(gray, 50, 150)\n",
        "\n",
        "    # Find contours\n",
        "    contours, _ = cv2.findContours(edges, cv2.RETR_TREE, cv2.CHAIN_APPROX_SIMPLE)\n",
        "\n",
        "    # Create an empty image to draw lines of symmetry\n",
        "    symmetry_img = img.copy()\n",
        "\n",
        "    for contour in contours:\n",
        "        # Calculate image moments of the contour\n",
        "        M = cv2.moments(contour)\n",
        "\n",
        "        if M['m00'] != 0:\n",
        "            # Calculate the center of the contour\n",
        "            cx = int(M['m10'] / M['m00'])\n",
        "            cy = int(M['m01'] / M['m00'])\n",
        "\n",
        "            # Draw lines of symmetry\n",
        "            draw_symmetry_lines(symmetry_img, cx, cy)\n",
        "\n",
        "    # Save or display the result\n",
        "    output_path = 'output_symmetry.png'\n",
        "    cv2.imwrite(output_path, symmetry_img)\n",
        "    # cv2.imshow('Symmetry Lines', symmetry_img)\n",
        "    cv2_imshow(symmetry_img)\n",
        "    cv2.waitKey(0)\n",
        "    cv2.destroyAllWindows()"
      ]
    },
    {
      "cell_type": "code",
      "source": [
        "path_XYs = read_csv(file_path)\n",
        "plot(path_XYs)"
      ],
      "metadata": {
        "id": "GTira-o4cMZB"
      },
      "execution_count": null,
      "outputs": []
    },
    {
      "cell_type": "code",
      "execution_count": null,
      "metadata": {
        "id": "iFxOopJDbidK",
        "outputId": "5e83d149-bd8e-4c21-b673-d1b1f14ae452",
        "colab": {
          "base_uri": "https://localhost:8080/",
          "height": 160
        }
      },
      "outputs": [
        {
          "output_type": "display_data",
          "data": {
            "text/plain": [
              "<PIL.Image.Image image mode=RGB size=200x143>"
            ],
            "image/png": "[encoded data removed]"
          },
          "metadata": {}
        }
      ],
      "source": [
        "find_lines_of_symmetry('square.png')"
      ]
    },
    {
      "cell_type": "code",
      "source": [],
      "metadata": {
        "id": "3jFSKQQHccUN"
      },
      "execution_count": null,
      "outputs": []
    }
  ],
  "metadata": {
    "kernelspec": {
      "display_name": "Python 3",
      "language": "python",
      "name": "python3"
    },
    "language_info": {
      "codemirror_mode": {
        "name": "ipython",
        "version": 3
      },
      "file_extension": ".py",
      "mimetype": "text/x-python",
      "name": "python",
      "nbconvert_exporter": "python",
      "pygments_lexer": "ipython3",
      "version": "3.11.4"
    },
    "colab": {
      "provenance": [],
      "include_colab_link": true
    }
  },
  "nbformat": 4,
  "nbformat_minor": 0
}